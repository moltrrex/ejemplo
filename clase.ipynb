{
 "cells": [
  {
   "cell_type": "code",
   "execution_count": 52,
   "metadata": {},
   "outputs": [],
   "source": [
    "from typing_extensions import Self\n",
    "import numpy as np\n",
    "import matplotlib.pyplot as plt\n",
    "\n",
    "class avatar:\n",
    "    def  __init__(self, nombre, raza, reino, nivel, elemento):\n",
    "        self.nombre = nombre\n",
    "        self.raza = raza\n",
    "        self.reino = reino\n",
    "        self.nivel = nivel\n",
    "        self.elemento = elemento\n",
    "    \n",
    "    def subir_nivel(self, experiencia):\n",
    "        self.nivel = self.nivel + 0.01*experiencia/self.nivel\n",
    "        \n",
    "    def habilidad(self):\n",
    "        elementos =[\"fuego\",\"agua\",\"tierra\", \"aire\"]\n",
    "        elemento = input(\"que elemento desea para su avatar\")\n",
    "        \n",
    "        while elemento not in elementos:\n",
    "            print(\"ese elemto no esta disponible\")\n",
    "            elemento = input(\"que elemento desea para su avatar\")\n",
    "        self.elemento=elemento\n",
    "        \n",
    "    def condecoracion(self):\n",
    "        if self.nivel > 3 and self.nivel <= 5:\n",
    "            self.raza = f\"novato {self.nombre}\"\n",
    "        elif self.nivel > 5:\n",
    "            self.raza = f\"teniente {self.nombre}\"\n",
    "        else:\n",
    "            pass\n",
    "\n",
    "\n",
    "lazaro = avatar(\"lazaro\", \"orco\", \"vikingo\", 1, None)"
   ]
  },
  {
   "cell_type": "code",
   "execution_count": 175,
   "metadata": {},
   "outputs": [
    {
     "name": "stdout",
     "output_type": "stream",
     "text": [
      "teniente lazaro\n"
     ]
    },
    {
     "data": {
      "text/plain": [
       "5.075919872388523"
      ]
     },
     "execution_count": 175,
     "metadata": {},
     "output_type": "execute_result"
    }
   ],
   "source": [
    "lazaro.subir_nivel(10)\n",
    "lazaro.condecoracion()\n",
    "print(lazaro.raza)\n",
    "lazaro.nivel"
   ]
  },
  {
   "cell_type": "code",
   "execution_count": 179,
   "metadata": {},
   "outputs": [
    {
     "data": {
      "text/plain": [
       "'aire'"
      ]
     },
     "execution_count": 179,
     "metadata": {},
     "output_type": "execute_result"
    }
   ],
   "source": [
    "lazaro.elemento"
   ]
  }
 ],
 "metadata": {
  "kernelspec": {
   "display_name": "Python 3.9.13 64-bit (microsoft store)",
   "language": "python",
   "name": "python3"
  },
  "language_info": {
   "codemirror_mode": {
    "name": "ipython",
    "version": 3
   },
   "file_extension": ".py",
   "mimetype": "text/x-python",
   "name": "python",
   "nbconvert_exporter": "python",
   "pygments_lexer": "ipython3",
   "version": "3.9.13"
  },
  "orig_nbformat": 4,
  "vscode": {
   "interpreter": {
    "hash": "dd99866c4900682e151de3111d200b09f92d5629d2f5295a16a6e4a536b97e6a"
   }
  }
 },
 "nbformat": 4,
 "nbformat_minor": 2
}
