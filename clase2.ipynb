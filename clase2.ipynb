{
 "cells": [
  {
   "cell_type": "code",
   "execution_count": null,
   "metadata": {},
   "outputs": [],
   "source": [
    "import matplotlib.pyplot as plt\n",
    "import numpy as np\n",
    "from typing_extensions import Self\n",
    "\n",
    "class persona:\n",
    "    def __init__(self, nombre, cedula, edad, saldo):\n",
    "        self.nombre = nombre\n",
    "        self.cedula = cedula\n",
    "        self.edad = edad\n",
    "        self.reporte = False\n",
    "        self.sucursal = \"bello\"\n",
    "        self.saldo = saldo\n",
    "        \n",
    "    def identi(self):\n",
    "        print(f\"elnombre es {self.nombre}\\n la cedula es{self.cedula}\\n la edad es {self.edad}\")\n",
    "    def  reportar(self):\n",
    "        self.reporte = True\n",
    "    def liberar(self):\n",
    "        self.reporte = False\n",
    "        \n",
    "        \n",
    "class cdt(persona):\n",
    "    def __init__(self,nombre, cedula, edad, saldo):\n",
    "        self.nombre = nombre\n",
    "        self.cedula = cedula\n",
    "        self.edad = edad\n",
    "        self.saldo = saldo\n",
    "        self.retorno = 0\n",
    "    \n",
    "    def abrir(self, monto, plazo):\n",
    "        interes_mensual = 0.012\n",
    "        retorno = monto * monto*interes_mensual*plazo\n",
    "        return retorno\n",
    "    \n",
    "    def mostrar_retorno(self):\n",
    "        print(f\"el retorno es {self.retorno}\")\n",
    "        \n",
    "class ahorro(persona):\n",
    "    def __init__(self, nombre, cedula, edad, saldo, numcuenta):\n",
    "        self.nombre = nombre\n",
    "        self.cedula = cedula\n",
    "        self.edad = edad\n",
    "        self.saldo = saldo\n",
    "        self.numcuenta = numcuenta\n",
    "        \n",
    "    def cuenta(self):\n",
    "        \n",
    "        "
   ]
  }
 ],
 "metadata": {
  "kernelspec": {
   "display_name": "Python 3.9.13 64-bit (microsoft store)",
   "language": "python",
   "name": "python3"
  },
  "language_info": {
   "name": "python",
   "version": "3.9.13"
  },
  "orig_nbformat": 4,
  "vscode": {
   "interpreter": {
    "hash": "dd99866c4900682e151de3111d200b09f92d5629d2f5295a16a6e4a536b97e6a"
   }
  }
 },
 "nbformat": 4,
 "nbformat_minor": 2
}
